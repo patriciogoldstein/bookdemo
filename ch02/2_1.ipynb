{
 "cells": [
  {
   "cell_type": "markdown",
   "metadata": {},
   "source": [
    "# Exercise 2.1 (Consumption Innovations)"
   ]
  },
  {
   "cell_type": "markdown",
   "metadata": {},
   "source": [
    "In the economy with AR(1) endowment shocks studied in section 2.2, we found that $E_{t}c_{t+1}=c_{t}$, which means that $c_{t+1} = c_{t}+\\mu_{t+1}$, where $\\mu_{t+1}$ is a white noise process that is unforecastable given information available in t.Derive the innovation $\\mu_{t+1}$ as a function of r, $\\rho$, and $\\epsilon_{t+1}$. "
   ]
  },
  {
   "cell_type": "markdown",
   "metadata": {},
   "source": [
    "### Derivation Steps"
   ]
  },
  {
   "cell_type": "markdown",
   "metadata": {},
   "source": [
    "Using equation (2.18), we have:\n",
    "\n",
    "$$\n",
    "c_{t+1} = \\frac{r}{1 + r - \\rho} y_{t+1} - r d_t \\quad \\text{(1)}\n",
    "$$\n",
    "\n",
    "$$\n",
    "c_t = \\frac{r}{1 + r - \\rho} y_t - r d_{t-1} \\quad \\text{(2)}\n",
    "$$\n",
    "\n",
    "Subtracting (2) from (1):\n",
    "\n",
    "$$\n",
    "c_{t+1} - c_t = \\frac{r}{1 + r - \\rho} (y_{t+1} - y_t) - r (d_t - d_{t-1}) \\quad \\text{(3)}\n",
    "$$\n",
    "\n",
    "Now plug in the AR(1) process for \\( y_t \\):\n",
    "\n",
    "$$\n",
    "y_{t+1} = \\rho y_t + \\epsilon_{t+1}\n",
    "$$\n",
    "\n",
    "So:\n",
    "\n",
    "$$\n",
    "y_{t+1} - y_t = (\\rho - 1) y_t + \\epsilon_{t+1}\n",
    "$$\n",
    "\n",
    "Then:\n",
    "\n",
    "$$\n",
    "c_{t+1} - c_t = \\frac{r}{1 + r - \\rho} ((\\rho - 1) y_t + \\epsilon_{t+1}) - r(d_t - d_{t-1}) \\quad \\text{(4)}\n",
    "$$\n",
    "\n",
    "Now use the law of motion for external debt (equation 2.21):\n",
    "\n",
    "$$\n",
    "d_t - d_{t-1} = \\frac{1 - \\rho}{1 + r - \\rho} y_t\n",
    "$$\n",
    "\n",
    "Substitute into the equation:\n",
    "\n",
    "$$\n",
    "c_{t+1} - c_t = \\frac{r}{1 + r - \\rho} ((\\rho - 1) y_t + \\epsilon_{t+1}) - r \\cdot \\frac{1 - \\rho}{1 + r - \\rho} y_t \\quad \\text{(5)}\n",
    "$$\n",
    "\n",
    "The terms involving \\( y_t \\) cancel:\n",
    "\n",
    "$$\n",
    "c_{t+1} - c_t = \\frac{r}{1 + r - \\rho} \\epsilon_{t+1} \\quad \\text{(6)}\n",
    "$$\n",
    "\n",
    "Therefore, the innovation is:\n",
    "\n",
    "$$\n",
    "\\mu_{t+1} = c_{t+1} - c_t = \\frac{r}{1 + r - \\rho} \\epsilon_{t+1}\n",
    "$$"
   ]
  }
 ],
 "metadata": {
  "kernelspec": {
   "display_name": "Python 3",
   "language": "python",
   "name": "python3"
  },
  "language_info": {
   "codemirror_mode": {
    "name": "ipython",
    "version": 3
   },
   "file_extension": ".py",
   "mimetype": "text/x-python",
   "name": "python",
   "nbconvert_exporter": "python",
   "pygments_lexer": "ipython3",
   "version": "3.9.6"
  }
 },
 "nbformat": 4,
 "nbformat_minor": 2
}
