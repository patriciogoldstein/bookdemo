{
 "cells": [
  {
   "cell_type": "markdown",
   "metadata": {},
   "source": [
    "# Exercise 2.7 (Predicted Second Moments)"
   ]
  },
  {
   "cell_type": "markdown",
   "metadata": {},
   "source": [
    "In Chapter 1, we showed that two empirical regularities that characterize emerging economies are the countercyclicality of the trade balance-to-output ratio and the fact that consumption growth appears to be more volatile than output growth. In this chapter, we developed a simple small open endowment economy and provided intuitive arguments suggesting that this economy fails to account for these two stylized facts. However, that model does not allow for closed-form solutions of second moments of output growth, consumption growth, or the trade balance-to-output ratio. The goal of this exercise is to obtain these implied statistics numerically.\n",
    "\n",
    "To this end, consider the following parameterization of the model developed in the present chapter:\n",
    "\n",
    "$$\n",
    "y_t - \\bar{y} = \\rho(y_{t-1} - \\bar{y}) + \\epsilon_t,\n",
    "$$\n",
    "\n",
    "with $ \\rho = 0.9 $, $ \\bar{y} = 1 $, and $ \\epsilon_t $ is distributed normally with mean 0 and standard deviation 0.03. Note that the parameter $ \\bar{y} $, which earlier in this chapter was implicitly assumed to be zero, represents the deterministic steady state of the output process. Assume further that $ r = \\frac{1}{\\beta} - 1 = 0.1 $, $ d_{-1} = \\bar{y}/2 $, and $ y_{-1} = \\bar{y} $.\n"
   ]
  },
  {
   "cell_type": "markdown",
   "metadata": {},
   "source": [
    "## Q1"
   ]
  },
  {
   "cell_type": "markdown",
   "metadata": {},
   "source": [
    "1. Simulate the economy for 100 years.\n"
   ]
  },
  {
   "cell_type": "markdown",
   "metadata": {},
   "source": [
    "### Code for Q1"
   ]
  },
  {
   "cell_type": "code",
   "execution_count": 1,
   "metadata": {},
   "outputs": [],
   "source": [
    "# 1. Simulate the economy for 100 years.\n",
    "import numpy as np\n",
    "\n",
    "# Set seed for reproducibility (optional)\n",
    "np.random.seed(123)\n",
    "\n",
    "# Model parameters\n",
    "rho = 0.9            # AR(1) coefficient for output\n",
    "y_bar = 1.0          # Steady‐state level of output\n",
    "sigma_eps = 0.03     # Standard deviation of output shock\n",
    "r = 0.1              # World interest rate\n",
    "beta = 1 / (1 + r)   # Discount factor\n",
    "\n",
    "# Pre‐allocate array for output levels (length T = 100)\n",
    "T = 100\n",
    "y = np.zeros(T)\n",
    "y[0] = y_bar         # Initialize with steady‐state output\n",
    "\n",
    "# Simulate y_t according to: y_t - y_bar = rho*(y_{t-1} - y_bar) + eps_t\n",
    "for t in range(1, T):\n",
    "    y[t] = y_bar + rho * (y[t-1] - y_bar) + np.random.normal(0, sigma_eps)\n",
    "\n",
    "# At this point, 'y' contains the 100‐year simulated path for output."
   ]
  },
  {
   "cell_type": "markdown",
   "metadata": {},
   "source": [
    "## Q2"
   ]
  },
  {
   "cell_type": "markdown",
   "metadata": {},
   "source": [
    "2. Discard the first 50 years of artificial data to minimize the dependence of the results on initial conditions.\n"
   ]
  },
  {
   "cell_type": "markdown",
   "metadata": {},
   "source": [
    "### Code for Q2"
   ]
  },
  {
   "cell_type": "code",
   "execution_count": 2,
   "metadata": {},
   "outputs": [],
   "source": [
    "# 2. Discard the first 50 years of data.\n",
    "# We simply slice off the first 50 observations to minimize sensitivity to initial conditions.\n",
    "y_trim = y[50:]  # This has length 50 (from t = 50 to t = 99)"
   ]
  },
  {
   "cell_type": "markdown",
   "metadata": {},
   "source": [
    "## Q3"
   ]
  },
  {
   "cell_type": "markdown",
   "metadata": {},
   "source": [
    "3. Compute the growth rates of output and consumption and the trade balance-to-output ratio.\n"
   ]
  },
  {
   "cell_type": "markdown",
   "metadata": {},
   "source": [
    "### Code for Q3"
   ]
  },
  {
   "cell_type": "code",
   "execution_count": 3,
   "metadata": {},
   "outputs": [],
   "source": [
    "# 3. Compute growth rates of output and consumption, and the trade balance‐to‐output ratio.\n",
    "# First, compute the steady‐state consumption:\n",
    "d_minus1 = y_bar / 2          # Initial net foreign assets\n",
    "steady_c = y_bar + r * d_minus1  # c = y + r*d\n",
    "\n",
    "# Based on the small open‐economy log‐utility solution, consumption deviations satisfy:\n",
    "#   c_t - steady_c = (y_t - y_bar) / (1 + beta * rho)\n",
    "# Then c_t = steady_c + (y_t - y_bar) / (1 + beta * rho)\n",
    "\n",
    "# Compute consumption series for trimmed sample\n",
    "denominator = 1 + beta * rho\n",
    "c_trim = steady_c + (y_trim - y_bar) / denominator\n",
    "\n",
    "# Compute annual growth rates (in percentage terms) for y and c:\n",
    "#   gy_t = 100 * [ln(y_t) - ln(y_{t-1})], for t = 1,...,(length-1)\n",
    "#   gc_t = 100 * [ln(c_t) - ln(c_{t-1})]\n",
    "gy = 100.0 * (np.log(y_trim[1:]) - np.log(y_trim[:-1]))\n",
    "gc = 100.0 * (np.log(c_trim[1:]) - np.log(c_trim[:-1]))\n",
    "\n",
    "# Compute trade balance‐to‐output ratio:\n",
    "#   We define trade balance TB_t = y_t - c_t\n",
    "#   Then tby_t = TB_t / y_t\n",
    "tb_trim = y_trim - c_trim\n",
    "tby = tb_trim / y_trim  # length = 50\n",
    "\n",
    "# Note: growth arrays 'gy' and 'gc' have length 49 (since they start at t=51),\n",
    "# and 'tby' has length 50. We will align by dropping tby[0].\n",
    "tby_aligned = tby[1:]"
   ]
  },
  {
   "cell_type": "markdown",
   "metadata": {},
   "source": [
    "## Q4"
   ]
  },
  {
   "cell_type": "markdown",
   "metadata": {},
   "source": [
    "4. Compute the sample standard deviations of output growth and consumption growth and the correlation between output growth and the trade balance-to-output ratio. Here we denote these three statistics by $ \\sigma_{gy} $, $ \\sigma_{gc} $, and $ \\rho_{gy,tby} $, respectively.\n"
   ]
  },
  {
   "cell_type": "markdown",
   "metadata": {},
   "source": [
    "### Code for Q4"
   ]
  },
  {
   "cell_type": "code",
   "execution_count": 4,
   "metadata": {},
   "outputs": [
    {
     "name": "stdout",
     "output_type": "stream",
     "text": [
      "std(gy) = 3.2897\n",
      "std(gc) = 1.7388\n",
      "std(gc)/std(gy) = 0.5285\n",
      "corr(gy, tby) = 0.2564\n"
     ]
    }
   ],
   "source": [
    "# 4. Compute sample standard deviations and the correlation.\n",
    "# Compute standard deviations of output growth and consumption growth:\n",
    "sigma_gy = np.std(gy, ddof=1)  # sample standard deviation\n",
    "sigma_gc = np.std(gc, ddof=1)\n",
    "\n",
    "# Compute correlation between output growth and trade balance‐to‐output ratio:\n",
    "corr_gy_tby = np.corrcoef(gy, tby_aligned)[0, 1]\n",
    "\n",
    "# Display results for this single replication:\n",
    "print(f\"std(gy) = {sigma_gy:.4f}\")\n",
    "print(f\"std(gc) = {sigma_gc:.4f}\")\n",
    "print(f\"std(gc)/std(gy) = {sigma_gc / sigma_gy:.4f}\")\n",
    "print(f\"corr(gy, tby) = {corr_gy_tby:.4f}\")"
   ]
  },
  {
   "cell_type": "markdown",
   "metadata": {},
   "source": [
    "## Q5"
   ]
  },
  {
   "cell_type": "markdown",
   "metadata": {},
   "source": [
    "5. Replicate steps 1 to 4 10,000 times. For each replication, keep record of $ \\sigma_{gy} $, $ \\sigma_{gc} $, and $ \\rho_{gy,tby} $.\n"
   ]
  },
  {
   "cell_type": "markdown",
   "metadata": {},
   "source": [
    "### Code"
   ]
  },
  {
   "cell_type": "code",
   "execution_count": 5,
   "metadata": {},
   "outputs": [],
   "source": [
    "# 5. Replicate steps 1–4 10,000 times and keep record of σ_gy, σ_gc, and corr(gy, tby).\n",
    "n_reps = 10_000\n",
    "\n",
    "# Pre‐allocate arrays to store statistics from each replication\n",
    "sigma_gy_arr = np.zeros(n_reps)\n",
    "sigma_gc_arr = np.zeros(n_reps)\n",
    "corr_arr = np.zeros(n_reps)\n",
    "\n",
    "for rep in range(n_reps):\n",
    "    # (a) Simulate a new 100‐year output path\n",
    "    y_sim = np.zeros(T)\n",
    "    y_sim[0] = y_bar\n",
    "    for t in range(1, T):\n",
    "        y_sim[t] = y_bar + rho * (y_sim[t-1] - y_bar) + np.random.normal(0, sigma_eps)\n",
    "    \n",
    "    # (b) Discard the first 50 observations\n",
    "    y_sim_trim = y_sim[50:]\n",
    "    \n",
    "    # (c) Compute consumption series for trimmed sample\n",
    "    c_sim_trim = steady_c + (y_sim_trim - y_bar) / denominator\n",
    "    \n",
    "    # (d) Compute growth rates for y and c\n",
    "    gy_sim = 100.0 * (np.log(y_sim_trim[1:]) - np.log(y_sim_trim[:-1]))\n",
    "    gc_sim = 100.0 * (np.log(c_sim_trim[1:]) - np.log(c_sim_trim[:-1]))\n",
    "    \n",
    "    # (e) Compute trade balance‐to‐output ratio\n",
    "    tb_sim_trim = y_sim_trim - c_sim_trim\n",
    "    tby_sim = tb_sim_trim / y_sim_trim\n",
    "    tby_sim_aligned = tby_sim[1:]  # align with growth rate indices\n",
    "    \n",
    "    # (f) Compute sample statistics\n",
    "    sigma_gy_arr[rep] = np.std(gy_sim, ddof=1)\n",
    "    sigma_gc_arr[rep] = np.std(gc_sim, ddof=1)\n",
    "    corr_arr[rep] = np.corrcoef(gy_sim, tby_sim_aligned)[0, 1]"
   ]
  },
  {
   "cell_type": "markdown",
   "metadata": {},
   "source": [
    "## Q6"
   ]
  },
  {
   "cell_type": "markdown",
   "metadata": {},
   "source": [
    "6. Report the average of $ \\sigma_{gc} / \\sigma_{gy} $, and $ \\rho_{gy,tby} $ over the 10,000 replications.\n"
   ]
  },
  {
   "cell_type": "markdown",
   "metadata": {},
   "source": [
    "### Code"
   ]
  },
  {
   "cell_type": "code",
   "execution_count": 6,
   "metadata": {},
   "outputs": [
    {
     "name": "stdout",
     "output_type": "stream",
     "text": [
      "Average std(gy) over 10000 reps = 3.1075\n",
      "Average std(gc) over 10000 reps = 1.6207\n",
      "Average std(gc)/std(gy) over 10000 reps = 0.5220\n",
      "Average corr(gy, tby) over 10000 reps = 0.2955\n"
     ]
    }
   ],
   "source": [
    "# 6. Report average of std(gy), std(gc), std(gc)/std(gy), and corr(gy, tby) over all replications.\n",
    "mean_sigma_gy = np.mean(sigma_gy_arr)\n",
    "mean_sigma_gc = np.mean(sigma_gc_arr)\n",
    "ratio_arr = sigma_gc_arr / sigma_gy_arr\n",
    "mean_ratio = np.mean(ratio_arr)\n",
    "mean_corr = np.mean(corr_arr)\n",
    "\n",
    "print(f\"Average std(gy) over {n_reps} reps = {mean_sigma_gy:.4f}\")\n",
    "print(f\"Average std(gc) over {n_reps} reps = {mean_sigma_gc:.4f}\")\n",
    "print(f\"Average std(gc)/std(gy) over {n_reps} reps = {mean_ratio:.4f}\")\n",
    "print(f\"Average corr(gy, tby) over {n_reps} reps = {mean_corr:.4f}\")"
   ]
  },
  {
   "cell_type": "markdown",
   "metadata": {},
   "source": [
    "## Q7"
   ]
  },
  {
   "cell_type": "markdown",
   "metadata": {},
   "source": [
    "7. Discuss your results."
   ]
  },
  {
   "cell_type": "markdown",
   "metadata": {},
   "source": [
    "### Solution"
   ]
  },
  {
   "cell_type": "markdown",
   "metadata": {},
   "source": [
    "consumption growth is less volatile than output growth and the trade balance is procyclical."
   ]
  }
 ],
 "metadata": {
  "kernelspec": {
   "display_name": "Python 3",
   "language": "python",
   "name": "python3"
  },
  "language_info": {
   "codemirror_mode": {
    "name": "ipython",
    "version": 3
   },
   "file_extension": ".py",
   "mimetype": "text/x-python",
   "name": "python",
   "nbconvert_exporter": "python",
   "pygments_lexer": "ipython3",
   "version": "3.9.6"
  }
 },
 "nbformat": 4,
 "nbformat_minor": 2
}
