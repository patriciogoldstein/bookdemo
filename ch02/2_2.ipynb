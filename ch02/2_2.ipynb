{
 "cells": [
  {
   "cell_type": "markdown",
   "metadata": {},
   "source": [
    "# Exercise 2.2 (An Economy with Endogenous Labor Supply)"
   ]
  },
  {
   "cell_type": "markdown",
   "metadata": {},
   "source": [
    "Consider a small open economy populated by a large number of households with preferences described by the utility function\n",
    "\n",
    "$$\n",
    "E_0 \\sum_{t=0}^{\\infty} \\beta^t U(c_t, h_t),\n",
    "$$\n",
    "\n",
    "where $U$ is a period utility function given by\n",
    "\n",
    "$$\n",
    "U(c, h) = -\\frac{1}{2} \\left[ (c - \\bar{c})^2 + h^2 \\right],\n",
    "$$\n",
    "\n",
    "where $\\bar{c} > 0$ is a satiation point. The household’s budget constraint is given by\n",
    "\n",
    "$$\n",
    "d_t = (1 + r) d_{t-1} + c_t - y_t,\n",
    "$$\n",
    "\n",
    "where $d_t$ denotes real debt acquired in period $t$ and due in period $t+1$, and $r > 0$ denotes the world interest rate. To avoid inessential dynamics, we impose\n",
    "\n",
    "$$\n",
    "\\beta(1 + r) = 1.\n",
    "$$\n",
    "\n",
    "The variable $y_t$ denotes output, which is assumed to be produced by the linear technology\n",
    "\n",
    "$$\n",
    "y_t = A h_t.\n",
    "$$\n",
    "\n",
    "Households are also subject to the no-Ponzi-game constraint\n",
    "\n",
    "$$\n",
    "\\lim_{j \\to \\infty} E_t \\left[ \\frac{d_{t+j}}{(1 + r)^j} \\right] \\leq 0.\n",
    "$$"
   ]
  },
  {
   "cell_type": "markdown",
   "metadata": {},
   "source": [
    "## Q1"
   ]
  },
  {
   "cell_type": "markdown",
   "metadata": {},
   "source": [
    "1. Compute the equilibrium laws of motion of consumption, debt, the trade balance, and the current account."
   ]
  },
  {
   "cell_type": "markdown",
   "metadata": {},
   "source": [
    "### Solution"
   ]
  },
  {
   "cell_type": "markdown",
   "metadata": {},
   "source": [
    "Household solves:\n",
    "\n",
    "$$\n",
    "\\max E_0 \\sum_{t=0}^{\\infty} \\beta^t \\left[ -\\frac{1}{2} \\left( (\\bar{c} - c_t)^2 + h_t^2 \\right) \\right]\n",
    "$$\n",
    "\n",
    "subject to:\n",
    "\n",
    "$$\n",
    "c_t + (1 + r) d_{t-1} = y_t + d_t\n",
    "$$\n",
    "\n",
    "$$\n",
    "y_t = A h_t\n",
    "$$\n",
    "\n",
    "$$\n",
    "\\lim_{j \\to \\infty} E_t \\left[ \\frac{d_{t+j}}{(1 + r)^j} \\right] \\leq 0\n",
    "$$\n",
    "\n",
    "Lagrangian of this problem can be written as:\n",
    "\n",
    "$$\n",
    "\\mathcal{L} = E_0 \\sum_{t=0}^{\\infty} \\beta^t \\left[ -\\frac{1}{2} \\left( (\\bar{c} - c_t)^2 + h_t^2 \\right) - \\lambda_t (c_t + (1 + r)d_{t-1} - A h_t - d_t) \\right]\n",
    "$$\n",
    "\n",
    "First order conditions:\n",
    "\n",
    "$$\n",
    "(\\bar{c} - c_t) - \\lambda_t = 0\n",
    "$$\n",
    "\n",
    "$$\n",
    "- h_t + \\lambda_t A = 0\n",
    "$$\n",
    "\n",
    "$$\n",
    "\\lambda_t = \\beta (1 + r) E_t [\\lambda_{t+1}]\n",
    "$$\n",
    "\n",
    "This yields Euler Equation and optimal labor supply condition:\n",
    "\n",
    "$$\n",
    "\\bar{c} - c_t = \\beta(1 + r) E_t [\\bar{c} - c_{t+1}]\n",
    "$$\n",
    "\n",
    "$$\n",
    "h_t = A (c_t - \\bar{c})\n",
    "$$\n",
    "\n",
    "Recall that $(1 + r)\\beta = 1$, then Euler Equation becomes:\n",
    "\n",
    "$$\n",
    "c_t = E_t [c_{t+1}]\n",
    "$$\n",
    "\n",
    "$$\n",
    "h_t = A (\\bar{c} - c_t)\n",
    "$$\n",
    "\n",
    "Intertemporal budget constraint is given by:\n",
    "\n",
    "$$\n",
    "(1 + r) d_{t-1} = \\sum_{j=0}^{\\infty} \\frac{E_t (y_{t+j} - c_{t+j})}{(1 + r)^j}\n",
    "$$\n",
    "\n",
    "Note that:\n",
    "\n",
    "$$\n",
    "E_t(y_{t+j} - c_{t+j}) = A^2 \\bar{c} - E_t(A^2 c_{t+j}) - E_t(c_{t+j}) = A^2 \\bar{c} - (A^2 + 1) c_t\n",
    "$$\n",
    "\n",
    "Then the intertemporal budget constraint becomes:\n",
    "\n",
    "$$\n",
    "(1 + r) d_{t-1} = \\frac{1 + r}{r} \\left[ A^2 \\bar{c} - (A^2 + 1) c_t \\right]\n",
    "$$\n",
    "\n",
    "Solve for $c_t$:\n",
    "\n",
    "$$\n",
    "c_t = \\frac{1}{A^2 + 1} \\left[ A^2 \\bar{c} - r d_{t-1} \\right]\n",
    "$$\n",
    "\n",
    "From the optimality condition for labor and the budget constraint:\n",
    "\n",
    "$$\n",
    "h_t = \\frac{A}{A^2 + 1} \\left[ \\bar{c} + r d_{t-1} \\right]\n",
    "$$\n",
    "\n",
    "$$\n",
    "tb_t = y_t - c_t = r d_{t-1}\n",
    "$$\n",
    "\n",
    "$$\n",
    "ca_t = tb_t - r d_{t-1} = 0\n",
    "$$"
   ]
  },
  {
   "cell_type": "markdown",
   "metadata": {},
   "source": [
    "## Q2"
   ]
  },
  {
   "cell_type": "markdown",
   "metadata": {},
   "source": [
    "2. Assume that in period 0, unexpectedly, the productivity parameter $A$ increases permanently to $A' > A$. Establish the effect of this shock on output, consumption, the trade balance, the current account, and the stock of debt."
   ]
  },
  {
   "cell_type": "markdown",
   "metadata": {},
   "source": [
    "### Solution"
   ]
  },
  {
   "cell_type": "markdown",
   "metadata": {},
   "source": [
    "Recall that:\n",
    "\n",
    "$$\n",
    "c_t = \\frac{1}{A^2 + 1} (A^2 \\bar{c} - r d_{t-1})\n",
    "$$\n",
    "\n",
    "$$\n",
    "y_t = A h_t = \\frac{A^2}{A^2 + 1} (\\bar{c} + r d_{t-1})\n",
    "$$\n",
    "\n",
    "$$\n",
    "tb_t = y_t - c_t = r d_{t-1}\n",
    "$$\n",
    "\n",
    "$$\n",
    "ca_t = tb_t - r d_{t-1} = 0\n",
    "$$\n",
    "\n",
    "Therefore, **consumption will increase once and for all at period $t = 0$**, output will also increase, but **trade balance and current account will not change**."
   ]
  }
 ],
 "metadata": {
  "language_info": {
   "name": "python"
  }
 },
 "nbformat": 4,
 "nbformat_minor": 2
}
